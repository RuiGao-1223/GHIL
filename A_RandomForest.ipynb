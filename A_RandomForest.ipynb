{
 "cells": [
  {
   "cell_type": "code",
   "execution_count": 1,
   "metadata": {},
   "outputs": [],
   "source": [
    "import numpy as np\n",
    "import pandas as pd\n",
    "from sklearn.ensemble import RandomForestClassifier\n",
    "from sklearn.model_selection import train_test_split\n",
    "from sklearn.metrics import accuracy_score, confusion_matrix"
   ]
  },
  {
   "cell_type": "code",
   "execution_count": 2,
   "metadata": {},
   "outputs": [
    {
     "name": "stdout",
     "output_type": "stream",
     "text": [
      "(440, 1775) (440, 1775) (400, 1775) (30, 1775) (34, 1775) (31, 1775)\n"
     ]
    }
   ],
   "source": [
    "\n",
    "h_train = pd.read_csv('./amplified_data/train_h.csv', header= None)\n",
    "h_train['label'] = 0\n",
    "y_train = pd.read_csv('./amplified_data/train_y.csv', header= None)\n",
    "y_train['label'] =1\n",
    "b_train = pd.read_csv('./amplified_data/train_b.csv', header= None)\n",
    "b_train['label'] =2\n",
    "h_test = pd.read_csv('./amplified_data/test_h.csv', header= None)\n",
    "h_test['label'] = 0\n",
    "y_test = pd.read_csv('./amplified_data/test_y.csv', header= None)\n",
    "y_test['label'] = 1\n",
    "b_test = pd.read_csv('./amplified_data/test_b.csv', header= None)\n",
    "b_test['label'] = 2\n",
    "print(\n",
    "    h_train.shape,\n",
    "    y_train.shape,\n",
    "    b_train.shape,\n",
    "    h_test.shape,\n",
    "    y_test.shape,\n",
    "    b_test.shape\n",
    ")\n",
    "\n"
   ]
  },
  {
   "cell_type": "code",
   "execution_count": 3,
   "metadata": {},
   "outputs": [],
   "source": [
    "train=np.concatenate((h_train,y_train,b_train),0)\n",
    "test=np.concatenate((h_test,y_test,b_test),0)\n",
    "\n",
    "X_train = train[:, :-1]\n",
    "y_train = train[:, -1]\n",
    "\n",
    "X_test = test[:,:-1]\n",
    "y_test = test[:,-1]"
   ]
  },
  {
   "cell_type": "code",
   "execution_count": 4,
   "metadata": {},
   "outputs": [
    {
     "name": "stdout",
     "output_type": "stream",
     "text": [
      "Accuracy: 0.5894736842105263\n",
      "Confusion Matrix:\n",
      "[[26  3  1]\n",
      " [10 17  7]\n",
      " [ 8 10 13]]\n"
     ]
    }
   ],
   "source": [
    "from sklearn.utils.class_weight import compute_class_weight\n",
    "\n",
    "# creat model\n",
    "rf_clf = RandomForestClassifier(n_estimators=100, max_depth = 3,random_state=2)\n",
    "\n",
    "\n",
    "# Training\n",
    "rf_clf.fit(X_train, y_train)\n",
    "\n",
    "# Predict\n",
    "y_pred = rf_clf.predict(X_test)\n",
    "\n",
    "\n",
    "accuracy = accuracy_score(y_test, y_pred)\n",
    "conf_matrix = confusion_matrix(y_test, y_pred)\n",
    "\n",
    "print(f'Accuracy: {accuracy}')\n",
    "print('Confusion Matrix:')\n",
    "print(conf_matrix)\n"
   ]
  },
  {
   "cell_type": "code",
   "execution_count": 5,
   "metadata": {},
   "outputs": [],
   "source": [
    "from sklearn.metrics import roc_curve, auc, precision_recall_curve\n",
    "# 进行预测\n",
    "y_pred_score = rf_clf.predict_proba(X_test)\n",
    "y_pred_score = pd.DataFrame(y_pred_score,columns = ['health','hb','hc'])\n",
    "y_pred_score.to_csv('./A_RF/A_RF_pre_score.csv')\n",
    "pd.DataFrame(y_pred).to_csv(\"./A_RF/A_RF_pres.csv\")"
   ]
  }
 ],
 "metadata": {
  "kernelspec": {
   "display_name": "Python 3",
   "language": "python",
   "name": "python3"
  },
  "language_info": {
   "codemirror_mode": {
    "name": "ipython",
    "version": 3
   },
   "file_extension": ".py",
   "mimetype": "text/x-python",
   "name": "python",
   "nbconvert_exporter": "python",
   "pygments_lexer": "ipython3",
   "version": "3.9.7"
  },
  "orig_nbformat": 4
 },
 "nbformat": 4,
 "nbformat_minor": 2
}
